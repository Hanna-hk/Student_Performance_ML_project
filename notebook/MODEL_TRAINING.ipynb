{
 "cells": [
  {
   "cell_type": "markdown",
   "id": "704bc4c2",
   "metadata": {},
   "source": [
    "**Model Training**\n",
    "--"
   ]
  },
  {
   "cell_type": "markdown",
   "id": "4304248b",
   "metadata": {},
   "source": [
    "**Import Data and Required Packages**"
   ]
  },
  {
   "cell_type": "markdown",
   "id": "7d40230d",
   "metadata": {},
   "source": [
    "**Importing Pandas, Numpy, Matplotlib, Seaborn and other Libraries**"
   ]
  },
  {
   "cell_type": "code",
   "execution_count": 32,
   "id": "09d0b73f",
   "metadata": {},
   "outputs": [],
   "source": [
    "# Basic Import\n",
    "import numpy as np\n",
    "import pandas as pd\n",
    "import matplotlib.pyplot as plt \n",
    "import seaborn as sns\n",
    "# Modelling\n",
    "from sklearn.preprocessing import OneHotEncoder, StandardScaler\n",
    "from sklearn.pipeline import Pipeline\n",
    "from sklearn.impute import SimpleImputer\n",
    "from sklearn.compose import ColumnTransformer\n",
    "from sklearn.base import BaseEstimator, TransformerMixin\n",
    "from sklearn.neighbors import KNeighborsRegressor\n",
    "from sklearn.tree import DecisionTreeRegressor\n",
    "from sklearn.ensemble import RandomForestRegressor,AdaBoostRegressor\n",
    "from sklearn.svm import SVR\n",
    "from sklearn.linear_model import PoissonRegressor, LinearRegression, Ridge,Lasso\n",
    "from sklearn.metrics import r2_score, mean_absolute_error, mean_squared_error\n",
    "from sklearn.model_selection import StratifiedShuffleSplit, GridSearchCV\n",
    "import warnings"
   ]
  },
  {
   "cell_type": "markdown",
   "id": "3fecc1b0",
   "metadata": {},
   "source": [
    "**Import the CSV Data as Pandas DataFrame**"
   ]
  },
  {
   "cell_type": "code",
   "execution_count": 2,
   "id": "7fe7c0c7",
   "metadata": {},
   "outputs": [],
   "source": [
    "df = pd.read_csv('data/Student_Performance.csv')"
   ]
  },
  {
   "cell_type": "markdown",
   "id": "462a8654",
   "metadata": {},
   "source": [
    "**5. Data Pre-Processing**\n",
    "--"
   ]
  },
  {
   "cell_type": "code",
   "execution_count": 3,
   "id": "0f5d75d3",
   "metadata": {},
   "outputs": [
    {
     "data": {
      "text/plain": [
       "Hours Studied                       0\n",
       "Previous Scores                     0\n",
       "Extracurricular Activities          0\n",
       "Sleep Hours                         0\n",
       "Sample Question Papers Practiced    0\n",
       "Performance Index                   0\n",
       "dtype: int64"
      ]
     },
     "execution_count": 3,
     "metadata": {},
     "output_type": "execute_result"
    }
   ],
   "source": [
    "df.isna().sum()"
   ]
  },
  {
   "cell_type": "markdown",
   "id": "c3b17502",
   "metadata": {},
   "source": [
    "**There are no missing values in the data set**"
   ]
  },
  {
   "cell_type": "markdown",
   "id": "92e76b65",
   "metadata": {},
   "source": [
    "**5.1 Removing duplicates**\n",
    "--"
   ]
  },
  {
   "cell_type": "code",
   "execution_count": 4,
   "id": "a3f55a53",
   "metadata": {},
   "outputs": [
    {
     "data": {
      "text/plain": [
       "np.int64(127)"
      ]
     },
     "execution_count": 4,
     "metadata": {},
     "output_type": "execute_result"
    }
   ],
   "source": [
    "df.duplicated().sum()"
   ]
  },
  {
   "cell_type": "code",
   "execution_count": 5,
   "id": "1644a38a",
   "metadata": {},
   "outputs": [
    {
     "data": {
      "text/plain": [
       "np.int64(0)"
      ]
     },
     "execution_count": 5,
     "metadata": {},
     "output_type": "execute_result"
    }
   ],
   "source": [
    "df = df.drop_duplicates()\n",
    "df.duplicated().sum()"
   ]
  },
  {
   "cell_type": "code",
   "execution_count": 6,
   "id": "43f258a2",
   "metadata": {},
   "outputs": [
    {
     "data": {
      "text/plain": [
       "<bound method DataFrame.info of       Hours Studied  Previous Scores Extracurricular Activities  Sleep Hours  \\\n",
       "0                 7               99                        Yes            9   \n",
       "1                 4               82                         No            4   \n",
       "2                 8               51                        Yes            7   \n",
       "3                 5               52                        Yes            5   \n",
       "4                 7               75                         No            8   \n",
       "...             ...              ...                        ...          ...   \n",
       "9995              1               49                        Yes            4   \n",
       "9996              7               64                        Yes            8   \n",
       "9997              6               83                        Yes            8   \n",
       "9998              9               97                        Yes            7   \n",
       "9999              7               74                         No            8   \n",
       "\n",
       "      Sample Question Papers Practiced  Performance Index  \n",
       "0                                    1               91.0  \n",
       "1                                    2               65.0  \n",
       "2                                    2               45.0  \n",
       "3                                    2               36.0  \n",
       "4                                    5               66.0  \n",
       "...                                ...                ...  \n",
       "9995                                 2               23.0  \n",
       "9996                                 5               58.0  \n",
       "9997                                 5               74.0  \n",
       "9998                                 0               95.0  \n",
       "9999                                 1               64.0  \n",
       "\n",
       "[9873 rows x 6 columns]>"
      ]
     },
     "execution_count": 6,
     "metadata": {},
     "output_type": "execute_result"
    }
   ],
   "source": [
    "df.info"
   ]
  },
  {
   "cell_type": "markdown",
   "id": "30623855",
   "metadata": {},
   "source": [
    "**5.2 Splitting data into training and test sets**\n",
    "--"
   ]
  },
  {
   "cell_type": "markdown",
   "id": "47983fbc",
   "metadata": {},
   "source": [
    "**5.2.1 Corelation matrix**"
   ]
  },
  {
   "cell_type": "code",
   "execution_count": 7,
   "id": "0f2a32ca",
   "metadata": {},
   "outputs": [
    {
     "data": {
      "text/plain": [
       "Performance Index                   1.000000\n",
       "Previous Scores                     0.915135\n",
       "Hours Studied                       0.375332\n",
       "Sleep Hours                         0.050352\n",
       "Sample Question Papers Practiced    0.043436\n",
       "Name: Performance Index, dtype: float64"
      ]
     },
     "execution_count": 7,
     "metadata": {},
     "output_type": "execute_result"
    }
   ],
   "source": [
    "corr_matrix = df.corr(numeric_only=True)\n",
    "corr_matrix[\"Performance Index\"].sort_values(ascending=False)"
   ]
  },
  {
   "cell_type": "markdown",
   "id": "275381bd",
   "metadata": {},
   "source": [
    "**Insights:**\n",
    "- The attribute that has the greatest impact on the performance index is “Previous results”, while less significant attributes are “Examples of exam tasks that have been completed” and “Hours of sleep”."
   ]
  },
  {
   "cell_type": "markdown",
   "id": "ab228563",
   "metadata": {},
   "source": [
    "**5.2.2 To distribute the full dataset evenly across the two datasets, it is important to split the data into categories based on \"Previous Scores\"**"
   ]
  },
  {
   "cell_type": "code",
   "execution_count": 8,
   "id": "8ace46e0",
   "metadata": {},
   "outputs": [
    {
     "data": {
      "text/plain": [
       "np.int64(99)"
      ]
     },
     "execution_count": 8,
     "metadata": {},
     "output_type": "execute_result"
    }
   ],
   "source": [
    "df[\"Previous Scores\"].max()"
   ]
  },
  {
   "cell_type": "code",
   "execution_count": 9,
   "id": "befc5cc7",
   "metadata": {},
   "outputs": [
    {
     "data": {
      "text/plain": [
       "<Axes: >"
      ]
     },
     "execution_count": 9,
     "metadata": {},
     "output_type": "execute_result"
    },
    {
     "data": {
      "image/png": "[encoded data removed]",
      "text/plain": [
       "<Figure size 640x480 with 1 Axes>"
      ]
     },
     "metadata": {},
     "output_type": "display_data"
    }
   ],
   "source": [
    "df[\"income_cat\"] = pd.cut(df[\"Previous Scores\"], bins=[0., 40., 65., 80., 100.], labels=[1,2,3,4])\n",
    "df[\"income_cat\"].hist()"
   ]
  },
  {
   "cell_type": "markdown",
   "id": "b53a6302",
   "metadata": {},
   "source": [
    "**5.2.3 Performing stratified shuffle split based on Previous Results**"
   ]
  },
  {
   "cell_type": "code",
   "execution_count": 10,
   "id": "a37fad97",
   "metadata": {},
   "outputs": [],
   "source": [
    "split = StratifiedShuffleSplit(n_splits=1, test_size=0.2, random_state=42)\n",
    "for train_index, test_index in split.split(df, df[\"income_cat\"]):\n",
    "    strat_train_set = df.iloc[train_index]\n",
    "    strat_test_set = df.iloc[test_index]"
   ]
  },
  {
   "cell_type": "markdown",
   "id": "63b3d35e",
   "metadata": {},
   "source": [
    "**Proportions of categories in test set**"
   ]
  },
  {
   "cell_type": "code",
   "execution_count": 11,
   "id": "c927ceca",
   "metadata": {},
   "outputs": [
    {
     "data": {
      "text/plain": [
       "income_cat\n",
       "2    0.421266\n",
       "4    0.318481\n",
       "3    0.243038\n",
       "1    0.017215\n",
       "Name: count, dtype: float64"
      ]
     },
     "execution_count": 11,
     "metadata": {},
     "output_type": "execute_result"
    }
   ],
   "source": [
    "strat_test_set[\"income_cat\"].value_counts() / len(strat_test_set)"
   ]
  },
  {
   "cell_type": "markdown",
   "id": "10336307",
   "metadata": {},
   "source": [
    "**Deleting attribute \"income_cat\"**"
   ]
  },
  {
   "cell_type": "code",
   "execution_count": 12,
   "id": "19cbaecf",
   "metadata": {},
   "outputs": [],
   "source": [
    "strat_train_set = strat_train_set.drop(\"income_cat\", axis=1)\n",
    "strat_test_set = strat_test_set.drop(\"income_cat\", axis=1)"
   ]
  },
  {
   "cell_type": "markdown",
   "id": "2970df83",
   "metadata": {},
   "source": [
    "**5.3 Preparing X and Y variables**\n",
    "--"
   ]
  },
  {
   "cell_type": "code",
   "execution_count": 13,
   "id": "6501cb51",
   "metadata": {},
   "outputs": [],
   "source": [
    "df = strat_train_set.drop(\"Performance Index\", axis=1)\n",
    "df_labels = strat_train_set[\"Performance Index\"].copy()"
   ]
  },
  {
   "cell_type": "code",
   "execution_count": 14,
   "id": "8ec5ad20",
   "metadata": {},
   "outputs": [
    {
     "data": {
      "text/html": [
       "<div>\n",
       "<style scoped>\n",
       "    .dataframe tbody tr th:only-of-type {\n",
       "        vertical-align: middle;\n",
       "    }\n",
       "\n",
       "    .dataframe tbody tr th {\n",
       "        vertical-align: top;\n",
       "    }\n",
       "\n",
       "    .dataframe thead th {\n",
       "        text-align: right;\n",
       "    }\n",
       "</style>\n",
       "<table border=\"1\" class=\"dataframe\">\n",
       "  <thead>\n",
       "    <tr style=\"text-align: right;\">\n",
       "      <th></th>\n",
       "      <th>Hours Studied</th>\n",
       "      <th>Previous Scores</th>\n",
       "      <th>Extracurricular Activities</th>\n",
       "      <th>Sleep Hours</th>\n",
       "      <th>Sample Question Papers Practiced</th>\n",
       "    </tr>\n",
       "  </thead>\n",
       "  <tbody>\n",
       "    <tr>\n",
       "      <th>6889</th>\n",
       "      <td>8</td>\n",
       "      <td>87</td>\n",
       "      <td>No</td>\n",
       "      <td>5</td>\n",
       "      <td>3</td>\n",
       "    </tr>\n",
       "    <tr>\n",
       "      <th>9588</th>\n",
       "      <td>6</td>\n",
       "      <td>81</td>\n",
       "      <td>Yes</td>\n",
       "      <td>5</td>\n",
       "      <td>2</td>\n",
       "    </tr>\n",
       "    <tr>\n",
       "      <th>2321</th>\n",
       "      <td>7</td>\n",
       "      <td>48</td>\n",
       "      <td>No</td>\n",
       "      <td>9</td>\n",
       "      <td>1</td>\n",
       "    </tr>\n",
       "    <tr>\n",
       "      <th>4898</th>\n",
       "      <td>6</td>\n",
       "      <td>88</td>\n",
       "      <td>No</td>\n",
       "      <td>7</td>\n",
       "      <td>5</td>\n",
       "    </tr>\n",
       "    <tr>\n",
       "      <th>2226</th>\n",
       "      <td>6</td>\n",
       "      <td>73</td>\n",
       "      <td>No</td>\n",
       "      <td>7</td>\n",
       "      <td>5</td>\n",
       "    </tr>\n",
       "  </tbody>\n",
       "</table>\n",
       "</div>"
      ],
      "text/plain": [
       "      Hours Studied  Previous Scores Extracurricular Activities  Sleep Hours  \\\n",
       "6889              8               87                         No            5   \n",
       "9588              6               81                        Yes            5   \n",
       "2321              7               48                         No            9   \n",
       "4898              6               88                         No            7   \n",
       "2226              6               73                         No            7   \n",
       "\n",
       "      Sample Question Papers Practiced  \n",
       "6889                                 3  \n",
       "9588                                 2  \n",
       "2321                                 1  \n",
       "4898                                 5  \n",
       "2226                                 5  "
      ]
     },
     "execution_count": 14,
     "metadata": {},
     "output_type": "execute_result"
    }
   ],
   "source": [
    "df.head(5)"
   ]
  },
  {
   "cell_type": "code",
   "execution_count": 15,
   "id": "be7eef75",
   "metadata": {},
   "outputs": [
    {
     "data": {
      "text/plain": [
       "6889    79.0\n",
       "9588    67.0\n",
       "2321    40.0\n",
       "4898    76.0\n",
       "2226    59.0\n",
       "Name: Performance Index, dtype: float64"
      ]
     },
     "execution_count": 15,
     "metadata": {},
     "output_type": "execute_result"
    }
   ],
   "source": [
    "df_labels.head(5)"
   ]
  },
  {
   "cell_type": "markdown",
   "id": "df61e46d",
   "metadata": {},
   "source": [
    "**5.4 Creating transformer and feature scaling**\n",
    "--"
   ]
  },
  {
   "cell_type": "markdown",
   "id": "5a7adfe9",
   "metadata": {},
   "source": [
    "**Splitting data into categorical and numerical data**"
   ]
  },
  {
   "cell_type": "code",
   "execution_count": 16,
   "id": "cb5cf0e1",
   "metadata": {},
   "outputs": [
    {
     "data": {
      "text/html": [
       "<div>\n",
       "<style scoped>\n",
       "    .dataframe tbody tr th:only-of-type {\n",
       "        vertical-align: middle;\n",
       "    }\n",
       "\n",
       "    .dataframe tbody tr th {\n",
       "        vertical-align: top;\n",
       "    }\n",
       "\n",
       "    .dataframe thead th {\n",
       "        text-align: right;\n",
       "    }\n",
       "</style>\n",
       "<table border=\"1\" class=\"dataframe\">\n",
       "  <thead>\n",
       "    <tr style=\"text-align: right;\">\n",
       "      <th></th>\n",
       "      <th>Hours Studied</th>\n",
       "      <th>Previous Scores</th>\n",
       "      <th>Sleep Hours</th>\n",
       "      <th>Sample Question Papers Practiced</th>\n",
       "    </tr>\n",
       "  </thead>\n",
       "  <tbody>\n",
       "    <tr>\n",
       "      <th>6889</th>\n",
       "      <td>8</td>\n",
       "      <td>87</td>\n",
       "      <td>5</td>\n",
       "      <td>3</td>\n",
       "    </tr>\n",
       "    <tr>\n",
       "      <th>9588</th>\n",
       "      <td>6</td>\n",
       "      <td>81</td>\n",
       "      <td>5</td>\n",
       "      <td>2</td>\n",
       "    </tr>\n",
       "    <tr>\n",
       "      <th>2321</th>\n",
       "      <td>7</td>\n",
       "      <td>48</td>\n",
       "      <td>9</td>\n",
       "      <td>1</td>\n",
       "    </tr>\n",
       "    <tr>\n",
       "      <th>4898</th>\n",
       "      <td>6</td>\n",
       "      <td>88</td>\n",
       "      <td>7</td>\n",
       "      <td>5</td>\n",
       "    </tr>\n",
       "    <tr>\n",
       "      <th>2226</th>\n",
       "      <td>6</td>\n",
       "      <td>73</td>\n",
       "      <td>7</td>\n",
       "      <td>5</td>\n",
       "    </tr>\n",
       "  </tbody>\n",
       "</table>\n",
       "</div>"
      ],
      "text/plain": [
       "      Hours Studied  Previous Scores  Sleep Hours  \\\n",
       "6889              8               87            5   \n",
       "9588              6               81            5   \n",
       "2321              7               48            9   \n",
       "4898              6               88            7   \n",
       "2226              6               73            7   \n",
       "\n",
       "      Sample Question Papers Practiced  \n",
       "6889                                 3  \n",
       "9588                                 2  \n",
       "2321                                 1  \n",
       "4898                                 5  \n",
       "2226                                 5  "
      ]
     },
     "execution_count": 16,
     "metadata": {},
     "output_type": "execute_result"
    }
   ],
   "source": [
    "df_num = df.drop(\"Extracurricular Activities\", axis=1)\n",
    "df_num.head(5)"
   ]
  },
  {
   "cell_type": "code",
   "execution_count": 17,
   "id": "93cd8ff8",
   "metadata": {},
   "outputs": [
    {
     "data": {
      "text/html": [
       "<div>\n",
       "<style scoped>\n",
       "    .dataframe tbody tr th:only-of-type {\n",
       "        vertical-align: middle;\n",
       "    }\n",
       "\n",
       "    .dataframe tbody tr th {\n",
       "        vertical-align: top;\n",
       "    }\n",
       "\n",
       "    .dataframe thead th {\n",
       "        text-align: right;\n",
       "    }\n",
       "</style>\n",
       "<table border=\"1\" class=\"dataframe\">\n",
       "  <thead>\n",
       "    <tr style=\"text-align: right;\">\n",
       "      <th></th>\n",
       "      <th>Extracurricular Activities</th>\n",
       "    </tr>\n",
       "  </thead>\n",
       "  <tbody>\n",
       "    <tr>\n",
       "      <th>6889</th>\n",
       "      <td>No</td>\n",
       "    </tr>\n",
       "    <tr>\n",
       "      <th>9588</th>\n",
       "      <td>Yes</td>\n",
       "    </tr>\n",
       "    <tr>\n",
       "      <th>2321</th>\n",
       "      <td>No</td>\n",
       "    </tr>\n",
       "    <tr>\n",
       "      <th>4898</th>\n",
       "      <td>No</td>\n",
       "    </tr>\n",
       "    <tr>\n",
       "      <th>2226</th>\n",
       "      <td>No</td>\n",
       "    </tr>\n",
       "  </tbody>\n",
       "</table>\n",
       "</div>"
      ],
      "text/plain": [
       "     Extracurricular Activities\n",
       "6889                         No\n",
       "9588                        Yes\n",
       "2321                         No\n",
       "4898                         No\n",
       "2226                         No"
      ]
     },
     "execution_count": 17,
     "metadata": {},
     "output_type": "execute_result"
    }
   ],
   "source": [
    "df_cat = df[[\"Extracurricular Activities\"]]\n",
    "df_cat.head(5)"
   ]
  },
  {
   "cell_type": "markdown",
   "id": "6a220620",
   "metadata": {},
   "source": [
    "**Adding columns for \"Rest to Study Ratio\" and \"Effort on Top of Knowledge\"**"
   ]
  },
  {
   "cell_type": "code",
   "execution_count": 18,
   "id": "6450e058",
   "metadata": {},
   "outputs": [],
   "source": [
    "hours_studied, previous_scores, sleep_hours = 0, 1, 3\n",
    "class CombinedAttributesAdder(BaseEstimator, TransformerMixin) :\n",
    "    def __init__(self, add_rest_to_study = True):\n",
    "        self.add_rest_to_study = add_rest_to_study\n",
    "    def fit(self, X, y=None):\n",
    "        return self\n",
    "    def transform(self, X, y=None):\n",
    "        if hasattr(X, \"iloc\"):\n",
    "            X=X.values\n",
    "        effort = X[:, previous_scores] * X[:, hours_studied]\n",
    "        if self.add_rest_to_study:\n",
    "            rest_to_study = X[:, sleep_hours] / X[:, hours_studied]\n",
    "            return np.c_[X, effort, rest_to_study]\n",
    "        else:\n",
    "            return np.c_[X, effort]"
   ]
  },
  {
   "cell_type": "markdown",
   "id": "8eb8b696",
   "metadata": {},
   "source": [
    "**Numerical pipeline**"
   ]
  },
  {
   "cell_type": "code",
   "execution_count": 19,
   "id": "85138d7f",
   "metadata": {},
   "outputs": [],
   "source": [
    "num_pipeline = Pipeline([\n",
    "    ('imputer', SimpleImputer(strategy=\"median\")),\n",
    "    ('attribs_adder', CombinedAttributesAdder()),\n",
    "    ('std_scaler', StandardScaler())\n",
    "])"
   ]
  },
  {
   "cell_type": "markdown",
   "id": "0708c097",
   "metadata": {},
   "source": [
    "**Categorical pipeline**"
   ]
  },
  {
   "cell_type": "code",
   "execution_count": 22,
   "id": "97782b27",
   "metadata": {},
   "outputs": [],
   "source": [
    "cat_pipeline = Pipeline([\n",
    "    ('imputer', SimpleImputer(strategy=\"most_frequent\")),\n",
    "    (\"one_hot_encoder\", OneHotEncoder()),\n",
    "    (\"scaler\", StandardScaler(with_mean=False))\n",
    "])"
   ]
  },
  {
   "cell_type": "markdown",
   "id": "71fc279c",
   "metadata": {},
   "source": [
    "**Final pipeline**"
   ]
  },
  {
   "cell_type": "code",
   "execution_count": 23,
   "id": "af728a65",
   "metadata": {},
   "outputs": [],
   "source": [
    "num_attribs = list(df_num)\n",
    "cat_attribs = [\"Extracurricular Activities\"]\n",
    "\n",
    "full_pipeline = ColumnTransformer([\n",
    "    (\"num\", num_pipeline, num_attribs),\n",
    "    (\"cat\", cat_pipeline, cat_attribs)\n",
    "])\n",
    "df_prepared = full_pipeline.fit_transform(df)"
   ]
  },
  {
   "cell_type": "markdown",
   "id": "151e484d",
   "metadata": {},
   "source": [
    "**6. Model Training**\n",
    "--"
   ]
  },
  {
   "cell_type": "markdown",
   "id": "85341d18",
   "metadata": {},
   "source": [
    "**6.1 Create an Evaluate Function to give all metrics after model Training**\n",
    "--"
   ]
  },
  {
   "cell_type": "code",
   "execution_count": 24,
   "id": "b2d91396",
   "metadata": {},
   "outputs": [],
   "source": [
    "def evaluate_model(true, predicted):\n",
    "    mae = mean_absolute_error(true, predicted)\n",
    "    mse = mean_squared_error(true, predicted)\n",
    "    rmse = np.sqrt(mean_squared_error(true, predicted))\n",
    "    r2_square = r2_score(true, predicted)\n",
    "    return mae, rmse, r2_square"
   ]
  },
  {
   "cell_type": "code",
   "execution_count": 25,
   "id": "fffb6f9c",
   "metadata": {},
   "outputs": [],
   "source": [
    "X_test = strat_test_set.drop(\"Performance Index\", axis=1)\n",
    "y_test = strat_test_set[\"Performance Index\"].copy()\n",
    "X_test_prepared = full_pipeline.transform(X_test)"
   ]
  },
  {
   "cell_type": "markdown",
   "id": "6cd8d102",
   "metadata": {},
   "source": [
    "**Evaluating the best model and Hyperparameter Tuning**"
   ]
  },
  {
   "cell_type": "code",
   "execution_count": 35,
   "id": "c08d9c3b",
   "metadata": {},
   "outputs": [
    {
     "name": "stdout",
     "output_type": "stream",
     "text": [
      "Linear Regression\n",
      "Model performance for Training set\n",
      "- Root Mean Squared Error: 2.0347\n",
      "- Mean Absolute Error: 1.6168\n",
      "- R2 Score: 0.9887\n",
      " - First 5 predictions: [80.33938006 68.95285767 39.22614333 76.96672886 61.6810563 ]\n",
      " - Real first 5 labels: [79.0, 67.0, 40.0, 76.0, 59.0]\n",
      "Model performance for Test set\n",
      "- Root Mean Squared Error: 2.0786\n",
      "- Mean Absolute Error: 1.6487\n",
      "- R2 Score: 0.9884\n",
      " - First 5 predictions: [84.06360069 59.92676783 74.41961668 69.47257376 66.63096018]\n",
      " - Real first 5 labels: [87.0, 59.0, 70.0, 68.0, 69.0]\n",
      "===================================\n",
      "\n",
      "\n",
      "Decision Tree\n",
      "Model performance for Training set\n",
      "- Root Mean Squared Error: 0.4888\n",
      "- Mean Absolute Error: 0.1341\n",
      "- R2 Score: 0.9994\n",
      " - First 5 predictions: [81. 67. 40. 76. 59.]\n",
      " - Real first 5 labels: [79.0, 67.0, 40.0, 76.0, 59.0]\n",
      "Model performance for Test set\n",
      "- Root Mean Squared Error: 3.0084\n",
      "- Mean Absolute Error: 2.3996\n",
      "- R2 Score: 0.9758\n",
      " - First 5 predictions: [86. 65. 72. 69. 65.]\n",
      " - Real first 5 labels: [87.0, 59.0, 70.0, 68.0, 69.0]\n",
      "===================================\n",
      "\n",
      "\n",
      "Random Forest Regressor\n",
      "Model performance for Training set\n",
      "- Root Mean Squared Error: 0.9403\n",
      "- Mean Absolute Error: 0.7326\n",
      "- R2 Score: 0.9976\n",
      " - First 5 predictions: [80.8108817  67.6171875  40.02734375 76.26757812 60.30859375]\n",
      " - Real first 5 labels: [79.0, 67.0, 40.0, 76.0, 59.0]\n",
      "Model performance for Test set\n",
      "- Root Mean Squared Error: 2.3728\n",
      "- Mean Absolute Error: 1.8980\n",
      "- R2 Score: 0.9849\n",
      " - First 5 predictions: [83.88606771 60.78710938 72.41666667 70.91640625 65.13541667]\n",
      " - Real first 5 labels: [87.0, 59.0, 70.0, 68.0, 69.0]\n",
      "===================================\n",
      "\n",
      "\n",
      "Poisson Regressor\n",
      "Model performance for Training set\n",
      "- Root Mean Squared Error: 3.3729\n",
      "- Mean Absolute Error: 2.7446\n",
      "- R2 Score: 0.9691\n",
      " - First 5 predictions: [79.74520522 66.60701738 40.00222683 76.88891817 58.51916586]\n",
      " - Real first 5 labels: [79.0, 67.0, 40.0, 76.0, 59.0]\n",
      "Model performance for Test set\n",
      "- Root Mean Squared Error: 3.3637\n",
      "- Mean Absolute Error: 2.7165\n",
      "- R2 Score: 0.9697\n",
      " - First 5 predictions: [85.75226008 58.53749685 73.3660485  69.47118337 64.96466371]\n",
      " - Real first 5 labels: [87.0, 59.0, 70.0, 68.0, 69.0]\n",
      "===================================\n",
      "\n",
      "\n",
      "Lasso\n",
      "Model performance for Training set\n",
      "- Root Mean Squared Error: 2.0513\n",
      "- Mean Absolute Error: 1.6290\n",
      "- R2 Score: 0.9886\n",
      " - First 5 predictions: [80.50747213 68.9567551  39.21029102 76.9500395  61.70590254]\n",
      " - Real first 5 labels: [79.0, 67.0, 40.0, 76.0, 59.0]\n",
      "Model performance for Test set\n",
      "- Root Mean Squared Error: 2.0887\n",
      "- Mean Absolute Error: 1.6566\n",
      "- R2 Score: 0.9883\n",
      " - First 5 predictions: [84.05559087 60.12655818 74.60716996 69.2544662  66.67643335]\n",
      " - Real first 5 labels: [87.0, 59.0, 70.0, 68.0, 69.0]\n",
      "===================================\n",
      "\n",
      "\n",
      "Ridge\n",
      "Model performance for Training set\n",
      "- Root Mean Squared Error: 2.0347\n",
      "- Mean Absolute Error: 1.6168\n",
      "- R2 Score: 0.9887\n",
      " - First 5 predictions: [80.34162823 68.95211989 39.22638429 76.96874005 61.68255055]\n",
      " - Real first 5 labels: [79.0, 67.0, 40.0, 76.0, 59.0]\n",
      "Model performance for Test set\n",
      "- Root Mean Squared Error: 2.0785\n",
      "- Mean Absolute Error: 1.6487\n",
      "- R2 Score: 0.9884\n",
      " - First 5 predictions: [84.06612623 59.92750853 74.42136617 69.47351757 66.63217032]\n",
      " - Real first 5 labels: [87.0, 59.0, 70.0, 68.0, 69.0]\n",
      "===================================\n",
      "\n",
      "\n",
      "K-Neighbors Regressor\n",
      "Model performance for Training set\n",
      "- Root Mean Squared Error: 0.4888\n",
      "- Mean Absolute Error: 0.1341\n",
      "- R2 Score: 0.9994\n",
      " - First 5 predictions: [81. 67. 40. 76. 59.]\n",
      " - Real first 5 labels: [79.0, 67.0, 40.0, 76.0, 59.0]\n",
      "Model performance for Test set\n",
      "- Root Mean Squared Error: 2.7818\n",
      "- Mean Absolute Error: 2.2068\n",
      "- R2 Score: 0.9793\n",
      " - First 5 predictions: [83.25115041 61.32768781 72.         69.80429741 66.12601263]\n",
      " - Real first 5 labels: [87.0, 59.0, 70.0, 68.0, 69.0]\n",
      "===================================\n",
      "\n",
      "\n",
      "AdaBoost Regressor\n",
      "Model performance for Training set\n",
      "- Root Mean Squared Error: 2.5320\n",
      "- Mean Absolute Error: 2.0299\n",
      "- R2 Score: 0.9826\n",
      " - First 5 predictions: [82.62729412 70.11301045 39.27396166 75.34721066 62.00834202]\n",
      " - Real first 5 labels: [79.0, 67.0, 40.0, 76.0, 59.0]\n",
      "Model performance for Test set\n",
      "- Root Mean Squared Error: 2.6256\n",
      "- Mean Absolute Error: 2.0973\n",
      "- R2 Score: 0.9816\n",
      " - First 5 predictions: [83.07503828 62.1144385  74.08323058 68.99857143 66.13470067]\n",
      " - Real first 5 labels: [87.0, 59.0, 70.0, 68.0, 69.0]\n",
      "===================================\n",
      "\n",
      "\n"
     ]
    }
   ],
   "source": [
    "models = {\n",
    "    \"Linear Regression\": LinearRegression(),\n",
    "    \"Decision Tree\": DecisionTreeRegressor(),\n",
    "    \"Random Forest Regressor\": RandomForestRegressor(),\n",
    "    \"Poisson Regressor\": PoissonRegressor(),\n",
    "    \"Lasso\": Lasso(),\n",
    "    \"Ridge\": Ridge(),\n",
    "    \"K-Neighbors Regressor\": KNeighborsRegressor(),\n",
    "    \"AdaBoost Regressor\": AdaBoostRegressor()\n",
    "}\n",
    "params = {\n",
    "    \"Decision Tree\": {\n",
    "        'criterion': ['squared_error', 'friedman_mse', 'absolute_error', 'poisson'],\n",
    "    },\n",
    "    \"Random Forest Regressor\": {\n",
    "        'n_estimators': [8, 16, 32, 64, 128, 256]\n",
    "    },\n",
    "    \"Linear Regression\": {},\n",
    "    \"AdaBoost Regressor\": {\n",
    "        'learning_rate': [0.1, 0.01, 0.5, 0.001],\n",
    "        'n_estimators': [8, 16, 32, 64, 128, 256]\n",
    "    },\n",
    "    \"Poisson Regressor\": {\n",
    "        'alpha': [0.1, 1.0, 10],\n",
    "        'max_iter': [100, 300, 1000]\n",
    "    },\n",
    "    \"Lasso\": {\n",
    "        'alpha': [0.1, 1.0, 10],\n",
    "        'max_iter': [100, 300, 1000]\n",
    "    },\n",
    "    \"Ridge\": {\n",
    "        'alpha': [0.1, 1.0, 10],\n",
    "        'solver': ['auto', 'svd', 'cholesky', 'lsqr', 'sag', 'saga']\n",
    "    },\n",
    "    \"K-Neighbors Regressor\": {\n",
    "        'n_neighbors': [3, 5, 7, 9, 11],\n",
    "        'weights': ['uniform', 'distance'],\n",
    "        'metric': ['euclidean', 'manhattan', 'minkowski']\n",
    "    }\n",
    "}\n",
    "model_list = []\n",
    "r2_list =[]\n",
    "mae_list = []\n",
    "rmse_list = []\n",
    "\n",
    "for i in range(len(list(models))):\n",
    "    model = list(models.values())[i]\n",
    "    param = params[list(models.keys())[i]]\n",
    "\n",
    "    #Selecting best params\n",
    "    gs = GridSearchCV(model, param, cv=3)\n",
    "    gs.fit(df_prepared, df_labels)\n",
    "            \n",
    "    model.set_params(**gs.best_params_)\n",
    "    model.fit(df_prepared, df_labels) # Train model\n",
    "\n",
    "    # Make predictions\n",
    "    y_train_pred = model.predict(df_prepared)\n",
    "    y_test_pred = model.predict(X_test_prepared)\n",
    "    \n",
    "    # Evaluate Train and Test dataset\n",
    "    model_train_mae , model_train_rmse, model_train_r2 = evaluate_model(df_labels, y_train_pred)\n",
    "    model_test_mae , model_test_rmse, model_test_r2 = evaluate_model(y_test, y_test_pred)\n",
    "\n",
    "    \n",
    "    print(list(models.keys())[i])\n",
    "    model_list.append(list(models.keys())[i])\n",
    "    r2_list.append(model_test_r2)\n",
    "    mae_list.append(model_test_mae)\n",
    "    rmse_list.append(model_test_rmse)\n",
    "    \n",
    "    print('Model performance for Training set')\n",
    "    print(\"- Root Mean Squared Error: {:.4f}\".format(model_train_rmse))\n",
    "    print(\"- Mean Absolute Error: {:.4f}\".format(model_train_mae))\n",
    "    print(\"- R2 Score: {:.4f}\".format(model_train_r2))\n",
    "    print(\" - First 5 predictions:\", y_train_pred[:5])\n",
    "    print(\" - Real first 5 labels:\", list(df_labels.iloc[:5]))\n",
    "\n",
    "    print('Model performance for Test set')\n",
    "    print(\"- Root Mean Squared Error: {:.4f}\".format(model_test_rmse))\n",
    "    print(\"- Mean Absolute Error: {:.4f}\".format(model_test_mae))\n",
    "    print(\"- R2 Score: {:.4f}\".format(model_test_r2))\n",
    "    print(\" - First 5 predictions:\", y_test_pred[:5])\n",
    "    print(\" - Real first 5 labels:\", list(y_test.iloc[:5]))\n",
    "    \n",
    "    print('='*35)\n",
    "    print('\\n')"
   ]
  },
  {
   "cell_type": "markdown",
   "id": "11a5047b",
   "metadata": {},
   "source": [
    "**Results**"
   ]
  },
  {
   "cell_type": "code",
   "execution_count": 38,
   "id": "0a5435aa",
   "metadata": {},
   "outputs": [
    {
     "data": {
      "text/html": [
       "<div>\n",
       "<style scoped>\n",
       "    .dataframe tbody tr th:only-of-type {\n",
       "        vertical-align: middle;\n",
       "    }\n",
       "\n",
       "    .dataframe tbody tr th {\n",
       "        vertical-align: top;\n",
       "    }\n",
       "\n",
       "    .dataframe thead th {\n",
       "        text-align: right;\n",
       "    }\n",
       "</style>\n",
       "<table border=\"1\" class=\"dataframe\">\n",
       "  <thead>\n",
       "    <tr style=\"text-align: right;\">\n",
       "      <th></th>\n",
       "      <th>Model Name</th>\n",
       "      <th>R2_Score</th>\n",
       "      <th>Mae_Score</th>\n",
       "      <th>RMSE_Score</th>\n",
       "    </tr>\n",
       "  </thead>\n",
       "  <tbody>\n",
       "    <tr>\n",
       "      <th>5</th>\n",
       "      <td>Ridge</td>\n",
       "      <td>0.988441</td>\n",
       "      <td>1.648694</td>\n",
       "      <td>2.078539</td>\n",
       "    </tr>\n",
       "    <tr>\n",
       "      <th>0</th>\n",
       "      <td>Linear Regression</td>\n",
       "      <td>0.988440</td>\n",
       "      <td>1.648735</td>\n",
       "      <td>2.078578</td>\n",
       "    </tr>\n",
       "    <tr>\n",
       "      <th>4</th>\n",
       "      <td>Lasso</td>\n",
       "      <td>0.988327</td>\n",
       "      <td>1.656571</td>\n",
       "      <td>2.088719</td>\n",
       "    </tr>\n",
       "    <tr>\n",
       "      <th>2</th>\n",
       "      <td>Random Forest Regressor</td>\n",
       "      <td>0.984936</td>\n",
       "      <td>1.898044</td>\n",
       "      <td>2.372828</td>\n",
       "    </tr>\n",
       "    <tr>\n",
       "      <th>7</th>\n",
       "      <td>AdaBoost Regressor</td>\n",
       "      <td>0.981555</td>\n",
       "      <td>2.097339</td>\n",
       "      <td>2.625611</td>\n",
       "    </tr>\n",
       "    <tr>\n",
       "      <th>6</th>\n",
       "      <td>K-Neighbors Regressor</td>\n",
       "      <td>0.979296</td>\n",
       "      <td>2.206797</td>\n",
       "      <td>2.781776</td>\n",
       "    </tr>\n",
       "    <tr>\n",
       "      <th>1</th>\n",
       "      <td>Decision Tree</td>\n",
       "      <td>0.975785</td>\n",
       "      <td>2.399578</td>\n",
       "      <td>3.008369</td>\n",
       "    </tr>\n",
       "    <tr>\n",
       "      <th>3</th>\n",
       "      <td>Poisson Regressor</td>\n",
       "      <td>0.969727</td>\n",
       "      <td>2.716474</td>\n",
       "      <td>3.363710</td>\n",
       "    </tr>\n",
       "  </tbody>\n",
       "</table>\n",
       "</div>"
      ],
      "text/plain": [
       "                Model Name  R2_Score  Mae_Score  RMSE_Score\n",
       "5                    Ridge  0.988441   1.648694    2.078539\n",
       "0        Linear Regression  0.988440   1.648735    2.078578\n",
       "4                    Lasso  0.988327   1.656571    2.088719\n",
       "2  Random Forest Regressor  0.984936   1.898044    2.372828\n",
       "7       AdaBoost Regressor  0.981555   2.097339    2.625611\n",
       "6    K-Neighbors Regressor  0.979296   2.206797    2.781776\n",
       "1            Decision Tree  0.975785   2.399578    3.008369\n",
       "3        Poisson Regressor  0.969727   2.716474    3.363710"
      ]
     },
     "execution_count": 38,
     "metadata": {},
     "output_type": "execute_result"
    }
   ],
   "source": [
    "model_report = pd.DataFrame(list(zip(model_list, r2_list, mae_list, rmse_list)), \n",
    "columns=['Model Name', 'R2_Score', 'Mae_Score', 'RMSE_Score']).sort_values(by=[\"R2_Score\"],ascending=False)\n",
    "model_report"
   ]
  },
  {
   "cell_type": "markdown",
   "id": "7f0bd226",
   "metadata": {},
   "source": [
    "**7. The best Model**\n",
    "--\n"
   ]
  },
  {
   "cell_type": "code",
   "execution_count": 41,
   "id": "3d3cae45",
   "metadata": {},
   "outputs": [
    {
     "name": "stdout",
     "output_type": "stream",
     "text": [
      "Model Name: Ridge\n",
      "Mae Score: 1.6488200242601672\n",
      "RMSE Score: 2.0786523502085714\n",
      "Accuracy of the model is 98.84\n"
     ]
    }
   ],
   "source": [
    "## Best Model Score\n",
    "best_model_score = max(model_report['R2_Score'].values)\n",
    "\n",
    "## Best Model Name \n",
    "best_model_index = model_report['R2_Score'].values.argmax()\n",
    "best_model_name=model_report.iloc[best_model_index]['Model Name']\n",
    "\n",
    "best_model = models[best_model_name]\n",
    "best_model = best_model.fit(df_prepared, df_labels)\n",
    "\n",
    "y_pred = best_model.predict(X_test_prepared)\n",
    "\n",
    "model_train_mae , model_train_rmse, model_train_r2 = evaluate_model(y_test, y_pred)\n",
    "print(\"Model Name:\", best_model_name)\n",
    "print(\"Mae Score:\", model_train_mae)\n",
    "print(\"RMSE Score:\",model_train_rmse)\n",
    "print(\"Accuracy of the model is %.2f\" %(model_train_r2*100))"
   ]
  },
  {
   "cell_type": "markdown",
   "id": "428a7990",
   "metadata": {},
   "source": [
    "**Plot y_pred and y_test**\n",
    "--"
   ]
  },
  {
   "cell_type": "code",
   "execution_count": 42,
   "id": "e6c0d996",
   "metadata": {},
   "outputs": [
    {
     "data": {
      "text/plain": [
       "<Axes: xlabel='Performance Index'>"
      ]
     },
     "execution_count": 42,
     "metadata": {},
     "output_type": "execute_result"
    },
    {
     "data": {
      "image/png": "[encoded data removed]",
      "text/plain": [
       "<Figure size 640x480 with 1 Axes>"
      ]
     },
     "metadata": {},
     "output_type": "display_data"
    }
   ],
   "source": [
    "sns.regplot(x=y_test,y=y_pred, \n",
    "ci=99, marker=\"x\", color=\".3\", line_kws=dict(color=\"pink\"))"
   ]
  },
  {
   "cell_type": "markdown",
   "id": "ab3e58fe",
   "metadata": {},
   "source": [
    "**Difference between Actual and Predicted Values**"
   ]
  },
  {
   "cell_type": "code",
   "execution_count": 43,
   "id": "03dd6433",
   "metadata": {},
   "outputs": [
    {
     "data": {
      "text/html": [
       "<div>\n",
       "<style scoped>\n",
       "    .dataframe tbody tr th:only-of-type {\n",
       "        vertical-align: middle;\n",
       "    }\n",
       "\n",
       "    .dataframe tbody tr th {\n",
       "        vertical-align: top;\n",
       "    }\n",
       "\n",
       "    .dataframe thead th {\n",
       "        text-align: right;\n",
       "    }\n",
       "</style>\n",
       "<table border=\"1\" class=\"dataframe\">\n",
       "  <thead>\n",
       "    <tr style=\"text-align: right;\">\n",
       "      <th></th>\n",
       "      <th>Actual Value</th>\n",
       "      <th>Predicted Value</th>\n",
       "      <th>Difference</th>\n",
       "    </tr>\n",
       "  </thead>\n",
       "  <tbody>\n",
       "    <tr>\n",
       "      <th>1617</th>\n",
       "      <td>87.0</td>\n",
       "      <td>84.062107</td>\n",
       "      <td>2.937893</td>\n",
       "    </tr>\n",
       "    <tr>\n",
       "      <th>4883</th>\n",
       "      <td>59.0</td>\n",
       "      <td>59.926296</td>\n",
       "      <td>-0.926296</td>\n",
       "    </tr>\n",
       "    <tr>\n",
       "      <th>9246</th>\n",
       "      <td>70.0</td>\n",
       "      <td>74.419924</td>\n",
       "      <td>-4.419924</td>\n",
       "    </tr>\n",
       "    <tr>\n",
       "      <th>3533</th>\n",
       "      <td>68.0</td>\n",
       "      <td>69.471036</td>\n",
       "      <td>-1.471036</td>\n",
       "    </tr>\n",
       "    <tr>\n",
       "      <th>4424</th>\n",
       "      <td>69.0</td>\n",
       "      <td>66.631142</td>\n",
       "      <td>2.368858</td>\n",
       "    </tr>\n",
       "    <tr>\n",
       "      <th>...</th>\n",
       "      <td>...</td>\n",
       "      <td>...</td>\n",
       "      <td>...</td>\n",
       "    </tr>\n",
       "    <tr>\n",
       "      <th>5007</th>\n",
       "      <td>73.0</td>\n",
       "      <td>75.458510</td>\n",
       "      <td>-2.458510</td>\n",
       "    </tr>\n",
       "    <tr>\n",
       "      <th>9256</th>\n",
       "      <td>47.0</td>\n",
       "      <td>47.179448</td>\n",
       "      <td>-0.179448</td>\n",
       "    </tr>\n",
       "    <tr>\n",
       "      <th>616</th>\n",
       "      <td>46.0</td>\n",
       "      <td>45.123266</td>\n",
       "      <td>0.876734</td>\n",
       "    </tr>\n",
       "    <tr>\n",
       "      <th>6180</th>\n",
       "      <td>79.0</td>\n",
       "      <td>82.512944</td>\n",
       "      <td>-3.512944</td>\n",
       "    </tr>\n",
       "    <tr>\n",
       "      <th>461</th>\n",
       "      <td>43.0</td>\n",
       "      <td>42.827586</td>\n",
       "      <td>0.172414</td>\n",
       "    </tr>\n",
       "  </tbody>\n",
       "</table>\n",
       "<p>1975 rows × 3 columns</p>\n",
       "</div>"
      ],
      "text/plain": [
       "      Actual Value  Predicted Value  Difference\n",
       "1617          87.0        84.062107    2.937893\n",
       "4883          59.0        59.926296   -0.926296\n",
       "9246          70.0        74.419924   -4.419924\n",
       "3533          68.0        69.471036   -1.471036\n",
       "4424          69.0        66.631142    2.368858\n",
       "...            ...              ...         ...\n",
       "5007          73.0        75.458510   -2.458510\n",
       "9256          47.0        47.179448   -0.179448\n",
       "616           46.0        45.123266    0.876734\n",
       "6180          79.0        82.512944   -3.512944\n",
       "461           43.0        42.827586    0.172414\n",
       "\n",
       "[1975 rows x 3 columns]"
      ]
     },
     "execution_count": 43,
     "metadata": {},
     "output_type": "execute_result"
    }
   ],
   "source": [
    "pred_df=pd.DataFrame({'Actual Value':y_test,'Predicted Value':y_pred,'Difference':y_test-y_pred})\n",
    "pred_df"
   ]
  }
 ],
 "metadata": {
  "kernelspec": {
   "display_name": "venv",
   "language": "python",
   "name": "python3"
  },
  "language_info": {
   "codemirror_mode": {
    "name": "ipython",
    "version": 3
   },
   "file_extension": ".py",
   "mimetype": "text/x-python",
   "name": "python",
   "nbconvert_exporter": "python",
   "pygments_lexer": "ipython3",
   "version": "3.13.5"
  }
 },
 "nbformat": 4,
 "nbformat_minor": 5
}
